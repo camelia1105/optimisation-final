{
 "cells": [
  {
   "cell_type": "code",
   "execution_count": 1,
   "metadata": {},
   "outputs": [],
   "source": [
    "import sympy as sp\n",
    "import numpy as np"
   ]
  },
  {
   "cell_type": "code",
   "execution_count": 2,
   "metadata": {},
   "outputs": [],
   "source": [
    "def fonctionf(x,y):\n",
    "    f = (x+2*y-7)**2+(2*x+y-5)**2\n",
    "    return f"
   ]
  },
  {
   "cell_type": "code",
   "execution_count": 3,
   "metadata": {},
   "outputs": [],
   "source": [
    "def deriv(x,y):\n",
    "    a, b = sp.symbols('a b',real =True)\n",
    "    fx = sp.diff(fonctionf(a,b),a).subs(a,x).subs(b,y)\n",
    "    fy = sp.diff(fonctionf(a,b),b).subs(a,x).subs(b,y)\n",
    "    return fx,fy"
   ]
  },
  {
   "cell_type": "code",
   "execution_count": 4,
   "metadata": {},
   "outputs": [],
   "source": [
    "def gradient_pas_rebroussement(n,eps): \n",
    "    alpha , beta = 0.5 , 0.9 \n",
    "    x, y = 0,0  # point initial (0, 0)\n",
    "    liste_x = np.zeros(n+1)                #Une liste qui stocke les coordonnées de l’axe X\n",
    "    liste_y = np.zeros(n+1)                #Une liste qui stocke les coordonnées de l’axe Y\n",
    "    liste_h = np.zeros(n+1)                #Une liste qui stocke les coordonnées de l’axe Z\n",
    "    liste_crit = np.zeros(n+1)             #Une liste qui stocke les valeurs de critères\n",
    "    h= fonctionf(x,y)\n",
    "    liste_h[0] = h\n",
    "    \n",
    "    liste_x[0] = x\n",
    "    liste_y[0] = y\n",
    "    crit = ((deriv(x,y)[0])**2+(deriv(x,y)[1])**2)**0.5     \n",
    "    liste_crit[0] = crit\n",
    "    \n",
    "    deriv_x, deriv_y = deriv(x, y)\n",
    "    m = 0                                 #Le nombre initial d’étapes est de 0\n",
    "    i = 1                                 #L'exponentielle initial de beta est 1\n",
    "    # Condition de résiliation\n",
    "    while m < n and crit > eps :\n",
    "        deriv_x, deriv_y = deriv(x, y)\n",
    "        x = x - alpha*beta**i*deriv_x\n",
    "        y = y - alpha*beta**i*deriv_y\n",
    "        h= fonctionf(x,y)\n",
    "        #print(h)\n",
    "        if h<=liste_h[m]:                #Assurer que le point suivant doit être plus petit en hauteur\n",
    "            m+=1                         #Décider de prendre cette étape, la valeur m représentant le nombre d’étapes est augmentée de 1\n",
    "            liste_x[m] = x               #Si la condition est remplie, cette valeur x est stockée\n",
    "            liste_y[m] = y               #Si la condition est remplie, cette valeur y est stockée\n",
    "            h= fonctionf(x,y)\n",
    "            liste_h[m] = h               #Si la condition est remplie, cette valeur h est stockée\n",
    "            crit = ((deriv(x,y)[0])**2+(deriv(x,y)[1])**2)**0.5\n",
    "            liste_crit[m] = crit         #Si la condition est remplie, cette valeur de critères est stockée\n",
    "            i=1                          #Après cette étape, l'exponentielle de beta est réécrit comme 1\n",
    "\n",
    "        else:\n",
    "            i+=1                        #Si la hauteur ne diminue pas, augmentez la taille exponentielle du beta\n",
    "        \n",
    "    return liste_x,liste_y,liste_crit,liste_h, m"
   ]
  },
  {
   "cell_type": "code",
   "execution_count": 7,
   "metadata": {},
   "outputs": [
    {
     "data": {
      "text/plain": [
       "(array([ 0.        , -0.54878239, -0.19936759,  0.07121869,  0.28075869,\n",
       "         0.4430249 ,  0.56868264,  0.66599106,  0.74134597,  0.79970025,\n",
       "         0.84488937,  0.87988349,  0.90698267,  0.92796807,  0.94421901,\n",
       "         0.95680362,  0.96654905,  0.97409583,  0.97994001,  0.98446569,\n",
       "         0.98797035,  0.99068433,  0.99278601,  0.99441354,  0.99567389,\n",
       "         0.99664989,  0.        ,  0.        ,  0.        ,  0.        ,\n",
       "         0.        ,  0.        ,  0.        ,  0.        ,  0.        ,\n",
       "         0.        ,  0.        ,  0.        ,  0.        ,  0.        ,\n",
       "         0.        ,  0.        ,  0.        ,  0.        ,  0.        ,\n",
       "         0.        ,  0.        ,  0.        ,  0.        ,  0.        ,\n",
       "         0.        ]),\n",
       " array([0.        , 1.45121226, 1.80063241, 2.07121869, 2.28075869,\n",
       "        2.4430249 , 2.56868264, 2.66599106, 2.74134597, 2.79970025,\n",
       "        2.84488937, 2.87988349, 2.90698267, 2.92796807, 2.94421901,\n",
       "        2.95680362, 2.96654905, 2.97409583, 2.97994001, 2.98446569,\n",
       "        2.98797035, 2.99068433, 2.99278601, 2.99441354, 2.99567389,\n",
       "        2.99664989, 0.        , 0.        , 0.        , 0.        ,\n",
       "        0.        , 0.        , 0.        , 0.        , 0.        ,\n",
       "        0.        , 0.        , 0.        , 0.        , 0.        ,\n",
       "        0.        , 0.        , 0.        , 0.        , 0.        ,\n",
       "        0.        , 0.        , 0.        , 0.        , 0.        ,\n",
       "        0.        ]),\n",
       " array([50.99019514, 39.42563122, 30.53091443, 23.64291216, 18.30889464,\n",
       "        14.1782713 , 10.97954742,  8.50247954,  6.58425667,  5.0987992 ,\n",
       "         3.94847203,  3.05766726,  2.36783469,  1.83363351,  1.41995209,\n",
       "         1.0996003 ,  0.85152226,  0.65941248,  0.5106441 ,  0.39543898,\n",
       "         0.30622499,  0.23713835,  0.18363817,  0.14220802,  0.11012483,\n",
       "         0.08527985,  0.        ,  0.        ,  0.        ,  0.        ,\n",
       "         0.        ,  0.        ,  0.        ,  0.        ,  0.        ,\n",
       "         0.        ,  0.        ,  0.        ,  0.        ,  0.        ,\n",
       "         0.        ,  0.        ,  0.        ,  0.        ,  0.        ,\n",
       "         0.        ,  0.        ,  0.        ,  0.        ,  0.        ,\n",
       "         0.        ]),\n",
       " array([7.40000000e+01, 4.31772333e+01, 2.58926871e+01, 1.55274249e+01,\n",
       "        9.31154508e+00, 5.58398269e+00, 3.34862393e+00, 2.00811551e+00,\n",
       "        1.20423433e+00, 7.22159814e-01, 4.33067538e-01, 2.59703585e-01,\n",
       "        1.55740031e-01, 9.33947731e-02, 5.60073320e-02, 3.35866894e-02,\n",
       "        2.01413934e-02, 1.20784672e-02, 7.24326106e-03, 4.34366629e-03,\n",
       "        2.60482628e-03, 1.56207211e-03, 9.36749332e-04, 5.61753395e-04,\n",
       "        3.36874408e-04, 2.02018123e-04, 0.00000000e+00, 0.00000000e+00,\n",
       "        0.00000000e+00, 0.00000000e+00, 0.00000000e+00, 0.00000000e+00,\n",
       "        0.00000000e+00, 0.00000000e+00, 0.00000000e+00, 0.00000000e+00,\n",
       "        0.00000000e+00, 0.00000000e+00, 0.00000000e+00, 0.00000000e+00,\n",
       "        0.00000000e+00, 0.00000000e+00, 0.00000000e+00, 0.00000000e+00,\n",
       "        0.00000000e+00, 0.00000000e+00, 0.00000000e+00, 0.00000000e+00,\n",
       "        0.00000000e+00, 0.00000000e+00, 0.00000000e+00]),\n",
       " 25)"
      ]
     },
     "execution_count": 7,
     "metadata": {},
     "output_type": "execute_result"
    }
   ],
   "source": [
    "N=50\n",
    "eps=0.1\n",
    "gradient_pas_rebroussement(N,eps)"
   ]
  },
  {
   "cell_type": "code",
   "execution_count": 8,
   "metadata": {},
   "outputs": [
    {
     "data": {
      "text/plain": [
       "(array([ 0.        , -0.54878239, -0.19936759,  0.07121869,  0.28075869,\n",
       "         0.4430249 ,  0.56868264,  0.66599106,  0.74134597,  0.79970025,\n",
       "         0.84488937,  0.87988349,  0.90698267,  0.92796807,  0.94421901,\n",
       "         0.95680362,  0.96654905,  0.97409583,  0.97994001,  0.98446569,\n",
       "         0.98797035,  0.99068433,  0.99278601,  0.99441354,  0.99567389,\n",
       "         0.99664989,  0.9974057 ,  0.99799099,  0.99844424,  0.99879523,\n",
       "         0.99906704,  0.99927752,  0.99944052,  0.99956674,  0.99966449,\n",
       "         0.        ,  0.        ,  0.        ,  0.        ,  0.        ,\n",
       "         0.        ,  0.        ,  0.        ,  0.        ,  0.        ,\n",
       "         0.        ,  0.        ,  0.        ,  0.        ,  0.        ,\n",
       "         0.        ]),\n",
       " array([0.        , 1.45121226, 1.80063241, 2.07121869, 2.28075869,\n",
       "        2.4430249 , 2.56868264, 2.66599106, 2.74134597, 2.79970025,\n",
       "        2.84488937, 2.87988349, 2.90698267, 2.92796807, 2.94421901,\n",
       "        2.95680362, 2.96654905, 2.97409583, 2.97994001, 2.98446569,\n",
       "        2.98797035, 2.99068433, 2.99278601, 2.99441354, 2.99567389,\n",
       "        2.99664989, 2.9974057 , 2.99799099, 2.99844424, 2.99879523,\n",
       "        2.99906704, 2.99927752, 2.99944052, 2.99956674, 2.99966449,\n",
       "        0.        , 0.        , 0.        , 0.        , 0.        ,\n",
       "        0.        , 0.        , 0.        , 0.        , 0.        ,\n",
       "        0.        , 0.        , 0.        , 0.        , 0.        ,\n",
       "        0.        ]),\n",
       " array([5.09901951e+01, 3.94256312e+01, 3.05309144e+01, 2.36429122e+01,\n",
       "        1.83088946e+01, 1.41782713e+01, 1.09795474e+01, 8.50247954e+00,\n",
       "        6.58425667e+00, 5.09879920e+00, 3.94847203e+00, 3.05766726e+00,\n",
       "        2.36783469e+00, 1.83363351e+00, 1.41995209e+00, 1.09960030e+00,\n",
       "        8.51522261e-01, 6.59412481e-01, 5.10644101e-01, 3.95438979e-01,\n",
       "        3.06224993e-01, 2.37138348e-01, 1.83638166e-01, 1.42208024e-01,\n",
       "        1.10124832e-01, 8.52798478e-02, 6.60400774e-02, 5.11409428e-02,\n",
       "        3.96031642e-02, 3.06683947e-02, 2.37493758e-02, 1.83913393e-02,\n",
       "        1.42421158e-02, 1.10289882e-02, 8.54076608e-03, 0.00000000e+00,\n",
       "        0.00000000e+00, 0.00000000e+00, 0.00000000e+00, 0.00000000e+00,\n",
       "        0.00000000e+00, 0.00000000e+00, 0.00000000e+00, 0.00000000e+00,\n",
       "        0.00000000e+00, 0.00000000e+00, 0.00000000e+00, 0.00000000e+00,\n",
       "        0.00000000e+00, 0.00000000e+00, 0.00000000e+00]),\n",
       " array([7.40000000e+01, 4.31772333e+01, 2.58926871e+01, 1.55274249e+01,\n",
       "        9.31154508e+00, 5.58398269e+00, 3.34862393e+00, 2.00811551e+00,\n",
       "        1.20423433e+00, 7.22159814e-01, 4.33067538e-01, 2.59703585e-01,\n",
       "        1.55740031e-01, 9.33947731e-02, 5.60073320e-02, 3.35866894e-02,\n",
       "        2.01413934e-02, 1.20784672e-02, 7.24326106e-03, 4.34366629e-03,\n",
       "        2.60482628e-03, 1.56207211e-03, 9.36749332e-04, 5.61753395e-04,\n",
       "        3.36874408e-04, 2.02018123e-04, 1.21146995e-04, 7.26498897e-05,\n",
       "        4.35669616e-05, 2.61264009e-05, 1.56675792e-05, 9.39559338e-06,\n",
       "        5.63438510e-06, 3.37884944e-06, 2.02624126e-06, 0.00000000e+00,\n",
       "        0.00000000e+00, 0.00000000e+00, 0.00000000e+00, 0.00000000e+00,\n",
       "        0.00000000e+00, 0.00000000e+00, 0.00000000e+00, 0.00000000e+00,\n",
       "        0.00000000e+00, 0.00000000e+00, 0.00000000e+00, 0.00000000e+00,\n",
       "        0.00000000e+00, 0.00000000e+00, 0.00000000e+00]),\n",
       " 34)"
      ]
     },
     "execution_count": 8,
     "metadata": {},
     "output_type": "execute_result"
    }
   ],
   "source": [
    "N=50\n",
    "eps=0.01\n",
    "gradient_pas_rebroussement(N,eps)"
   ]
  },
  {
   "cell_type": "markdown",
   "metadata": {},
   "source": [
    "### Plus le $\\epsilon$ est petit , plus la convergence est précise et plus le $\\epsilon$ est petit, plus le nombre d’étapes de convergence est élevé"
   ]
  },
  {
   "cell_type": "code",
   "execution_count": 10,
   "metadata": {},
   "outputs": [
    {
     "name": "stdout",
     "output_type": "stream",
     "text": [
      "La méthode converge en 25 pas\n"
     ]
    }
   ],
   "source": [
    "tabx, taby,tabh, tabcrit, m = gradient_pas_rebroussement(50,0.1)\n",
    "if tabcrit[m] < eps :\n",
    "    print('La méthode converge en', m, 'pas')\n",
    "else :\n",
    "    print('La méthode ne converge pas en', N, 'pas')"
   ]
  },
  {
   "cell_type": "code",
   "execution_count": 11,
   "metadata": {},
   "outputs": [
    {
     "name": "stdout",
     "output_type": "stream",
     "text": [
      "La méthode converge en 34 pas\n"
     ]
    }
   ],
   "source": [
    "tabx, taby,tabh, tabcrit, m = gradient_pas_rebroussement(50,0.01)    #le changement du valeur de epsilon\n",
    "if tabcrit[m] < eps :\n",
    "    print('La méthode converge en', m, 'pas')\n",
    "else :\n",
    "    print('La méthode ne converge pas en', N, 'pas')"
   ]
  },
  {
   "cell_type": "markdown",
   "metadata": {},
   "source": [
    "### Le nombre d’étapes convergentes est également affecté par $\\epsilon$."
   ]
  },
  {
   "cell_type": "markdown",
   "metadata": {},
   "source": [
    "## Si on change le choix du ( $\\alpha$ ,  $\\beta$ )"
   ]
  },
  {
   "cell_type": "markdown",
   "metadata": {},
   "source": [
    "###  Nous avons déterminé tous les autres coefficients, ne laissant que l’alpha et le beta comme variables."
   ]
  },
  {
   "cell_type": "code",
   "execution_count": 12,
   "metadata": {},
   "outputs": [],
   "source": [
    "def gradient_pas_rebroussement1(alpha,beta): \n",
    "    n=50\n",
    "    eps=0.01\n",
    "    x, y = 0,0  # point initial (0, 0)                   \n",
    "    liste_x = np.zeros(n+1)\n",
    "    liste_y = np.zeros(n+1)\n",
    "    liste_h = np.zeros(n+1)\n",
    "    liste_crit = np.zeros(n+1)\n",
    "    h= fonctionf(x,y)\n",
    "    liste_h[0] = h\n",
    "    \n",
    "    liste_x[0] = x\n",
    "    liste_y[0] = y\n",
    "    crit = ((deriv(x,y)[0])**2+(deriv(x,y)[1])**2)**0.5\n",
    "    liste_crit[0] = crit\n",
    "    \n",
    "    deriv_x, deriv_y = deriv(x, y)\n",
    "    m = 0\n",
    "    i = 1\n",
    "    # Condition de résiliation\n",
    "    while m < n and crit > eps :\n",
    "        deriv_x, deriv_y = deriv(x, y)\n",
    "        x = x - alpha*beta**i*deriv_x\n",
    "        y = y - alpha*beta**i*deriv_y\n",
    "        h= fonctionf(x,y)\n",
    "        if h<=liste_h[m]:\n",
    "            m+=1\n",
    "            liste_x[m] = x\n",
    "            liste_y[m] = y\n",
    "            h= fonctionf(x,y)\n",
    "            liste_h[m] = h\n",
    "            crit = ((deriv(x,y)[0])**2+(deriv(x,y)[1])**2)**0.5\n",
    "            liste_crit[m] = crit\n",
    "            i=1\n",
    "\n",
    "        else:\n",
    "            i+=1\n",
    "        \n",
    "    return liste_x,liste_y,liste_crit,liste_h, m"
   ]
  },
  {
   "cell_type": "code",
   "execution_count": 13,
   "metadata": {},
   "outputs": [
    {
     "name": "stdout",
     "output_type": "stream",
     "text": [
      "La méthode converge en 50 pas\n",
      "0.1 0.3\n",
      "La méthode converge en 50 pas\n",
      "0.1 0.4\n",
      "La méthode converge en 50 pas\n",
      "0.1 0.5\n",
      "La méthode converge en 45 pas\n",
      "0.1 0.6\n",
      "La méthode converge en 38 pas\n",
      "0.1 0.7\n",
      "La méthode converge en 33 pas\n",
      "0.1 0.8\n",
      "La méthode converge en 29 pas\n",
      "0.1 0.9\n",
      "La méthode converge en 50 pas\n",
      "0.2 0.2\n",
      "La méthode converge en 45 pas\n",
      "0.2 0.3\n",
      "La méthode converge en 33 pas\n",
      "0.2 0.4\n",
      "La méthode converge en 39 pas\n",
      "0.2 0.5\n",
      "La méthode converge en 20 pas\n",
      "0.2 0.6\n",
      "La méthode converge en 12 pas\n",
      "0.2 0.7\n",
      "La méthode converge en 10 pas\n",
      "0.2 0.9\n",
      "La méthode converge en 50 pas\n",
      "0.3 0.1\n",
      "La méthode converge en 45 pas\n",
      "0.3 0.2\n",
      "La méthode converge en 29 pas\n",
      "0.3 0.3\n",
      "La méthode converge en 20 pas\n",
      "0.3 0.4\n",
      "La méthode converge en 17 pas\n",
      "0.3 0.5\n",
      "La méthode converge en 9 pas\n",
      "0.3 0.6\n",
      "La méthode converge en 5 pas\n",
      "0.3 0.7\n",
      "La méthode converge en 29 pas\n",
      "0.3 0.8\n",
      "La méthode converge en 2 pas\n",
      "0.3 0.9\n",
      "La méthode converge en 50 pas\n",
      "0.4 0.1\n",
      "La méthode converge en 33 pas\n",
      "0.4 0.2\n",
      "La méthode converge en 23 pas\n",
      "0.4 0.3\n",
      "La méthode converge en 13 pas\n",
      "0.4 0.4\n",
      "La méthode converge en 9 pas\n",
      "0.4 0.5\n",
      "La méthode converge en 6 pas\n",
      "0.4 0.6\n",
      "La méthode converge en 9 pas\n",
      "0.4 0.7\n",
      "La méthode converge en 9 pas\n",
      "0.4 0.8\n",
      "La méthode converge en 8 pas\n",
      "0.4 0.9\n",
      "La méthode converge en 50 pas\n",
      "0.5 0.1\n",
      "La méthode converge en 39 pas\n",
      "0.5 0.2\n",
      "La méthode converge en 16 pas\n",
      "0.5 0.3\n",
      "La méthode converge en 12 pas\n",
      "0.5 0.4\n",
      "La méthode converge en 15 pas\n",
      "0.5 0.5\n",
      "La méthode converge en 12 pas\n",
      "0.5 0.6\n",
      "La méthode converge en 8 pas\n",
      "0.5 0.7\n",
      "La méthode converge en 15 pas\n",
      "0.5 0.8\n",
      "La méthode converge en 34 pas\n",
      "0.5 0.9\n",
      "La méthode converge en 45 pas\n",
      "0.6 0.1\n",
      "La méthode converge en 22 pas\n",
      "0.6 0.2\n",
      "La méthode converge en 13 pas\n",
      "0.6 0.3\n",
      "La méthode converge en 30 pas\n",
      "0.6 0.4\n",
      "La méthode converge en 50 pas\n",
      "0.6 0.5\n",
      "La méthode converge en 22 pas\n",
      "0.6 0.6\n",
      "La méthode converge en 19 pas\n",
      "0.6 0.7\n",
      "La méthode converge en 36 pas\n",
      "0.6 0.9\n",
      "La méthode converge en 38 pas\n",
      "0.7 0.1\n",
      "La méthode converge en 31 pas\n",
      "0.7 0.2\n",
      "La méthode converge en 9 pas\n",
      "0.7 0.3\n",
      "La méthode converge en 38 pas\n",
      "0.7 0.4\n",
      "La méthode converge en 50 pas\n",
      "0.7 0.5\n",
      "La méthode converge en 13 pas\n",
      "0.7 0.6\n",
      "La méthode converge en 29 pas\n",
      "0.7 0.7\n",
      "La méthode converge en 40 pas\n",
      "0.7 0.9\n"
     ]
    }
   ],
   "source": [
    "i=0\n",
    "j=0\n",
    "M=[]\n",
    "for i in range (1,8):                            #Modifier les valeurs alpha et beta pour comparer le nombre final d’étapes convergentes\n",
    "    alpha=i/10\n",
    "    for j in range(1,10):\n",
    "        beta=j/10\n",
    "        m=0\n",
    "        tabx, taby,tabh, tabcrit, m = gradient_pas_rebroussement1(alpha,beta)\n",
    "        if tabcrit[m] < eps :\n",
    "            print('La méthode converge en', m, 'pas')        #Le nombre d’étapes convergentes\n",
    "            print(i/10,j/10)                                 #Valeurs alpha et beta pour chaque étape convergente\n",
    "        M.append(m)"
   ]
  },
  {
   "cell_type": "markdown",
   "metadata": {},
   "source": [
    "### Si ($\\alpha$ , $\\beta$) =(0.3,0.9), le nombre d'étapes de convergence est le plus faible , m =2 . Moins il y a d'étapes de convergence, plus la convergence est rapide."
   ]
  },
  {
   "cell_type": "markdown",
   "metadata": {},
   "source": [
    "## Si on change le choix du point initial"
   ]
  },
  {
   "cell_type": "markdown",
   "metadata": {},
   "source": [
    "###  Nous avons déterminé tous les autres coefficients, ne laissant que le point initial comme variables."
   ]
  },
  {
   "cell_type": "code",
   "execution_count": 19,
   "metadata": {},
   "outputs": [],
   "source": [
    "def gradient_pas_rebroussement2(x,y): \n",
    "    n=50\n",
    "    eps=0.01\n",
    "    alpha = 0.3\n",
    "    beta = 0.9\n",
    "    liste_x = np.zeros(n+1)\n",
    "    liste_y = np.zeros(n+1)\n",
    "    liste_h = np.zeros(n+1)\n",
    "    liste_crit = np.zeros(n+1)\n",
    "    h= fonctionf(x,y)\n",
    "    liste_h[0] = h\n",
    "    \n",
    "    liste_x[0] = x\n",
    "    liste_y[0] = y\n",
    "    crit = ((deriv(x,y)[0])**2+(deriv(x,y)[1])**2)**0.5\n",
    "    liste_crit[0] = crit\n",
    "    \n",
    "    deriv_x, deriv_y = deriv(x, y)\n",
    "    m = 0\n",
    "    i = 1\n",
    "    # Condition de résiliation\n",
    "    while m < n and crit > eps :\n",
    "        deriv_x, deriv_y = deriv(x, y)\n",
    "        x = x - alpha*beta**i*deriv_x\n",
    "        y = y - alpha*beta**i*deriv_y\n",
    "        h= fonctionf(x,y)\n",
    "        #print(h)\n",
    "        if h<=liste_h[m]:\n",
    "            m+=1\n",
    "            liste_x[m] = x\n",
    "            liste_y[m] = y\n",
    "            h= fonctionf(x,y)\n",
    "            liste_h[m] = h\n",
    "            crit = ((deriv(x,y)[0])**2+(deriv(x,y)[1])**2)**0.5\n",
    "            liste_crit[m] = crit\n",
    "            i=1\n",
    "\n",
    "        else:\n",
    "            i+=1\n",
    "        \n",
    "    return liste_x,liste_y,liste_crit,liste_h, m"
   ]
  },
  {
   "cell_type": "code",
   "execution_count": 23,
   "metadata": {},
   "outputs": [
    {
     "data": {
      "text/plain": [
       "(array([1.        , 1.00127876, 1.00000791, 0.        , 0.        ,\n",
       "        0.        , 0.        , 0.        , 0.        , 0.        ,\n",
       "        0.        , 0.        , 0.        , 0.        , 0.        ,\n",
       "        0.        , 0.        , 0.        , 0.        , 0.        ,\n",
       "        0.        , 0.        , 0.        , 0.        , 0.        ,\n",
       "        0.        , 0.        , 0.        , 0.        , 0.        ,\n",
       "        0.        , 0.        , 0.        , 0.        , 0.        ,\n",
       "        0.        , 0.        , 0.        , 0.        , 0.        ,\n",
       "        0.        , 0.        , 0.        , 0.        , 0.        ,\n",
       "        0.        , 0.        , 0.        , 0.        , 0.        ,\n",
       "        0.        ]),\n",
       " array([2.        , 2.99690614, 2.99998879, 0.        , 0.        ,\n",
       "        0.        , 0.        , 0.        , 0.        , 0.        ,\n",
       "        0.        , 0.        , 0.        , 0.        , 0.        ,\n",
       "        0.        , 0.        , 0.        , 0.        , 0.        ,\n",
       "        0.        , 0.        , 0.        , 0.        , 0.        ,\n",
       "        0.        , 0.        , 0.        , 0.        , 0.        ,\n",
       "        0.        , 0.        , 0.        , 0.        , 0.        ,\n",
       "        0.        , 0.        , 0.        , 0.        , 0.        ,\n",
       "        0.        , 0.        , 0.        , 0.        , 0.        ,\n",
       "        0.        , 0.        , 0.        , 0.        , 0.        ,\n",
       "        0.        ]),\n",
       " array([1.28062485e+01, 2.39157037e-02, 4.98950771e-05, 0.00000000e+00,\n",
       "        0.00000000e+00, 0.00000000e+00, 0.00000000e+00, 0.00000000e+00,\n",
       "        0.00000000e+00, 0.00000000e+00, 0.00000000e+00, 0.00000000e+00,\n",
       "        0.00000000e+00, 0.00000000e+00, 0.00000000e+00, 0.00000000e+00,\n",
       "        0.00000000e+00, 0.00000000e+00, 0.00000000e+00, 0.00000000e+00,\n",
       "        0.00000000e+00, 0.00000000e+00, 0.00000000e+00, 0.00000000e+00,\n",
       "        0.00000000e+00, 0.00000000e+00, 0.00000000e+00, 0.00000000e+00,\n",
       "        0.00000000e+00, 0.00000000e+00, 0.00000000e+00, 0.00000000e+00,\n",
       "        0.00000000e+00, 0.00000000e+00, 0.00000000e+00, 0.00000000e+00,\n",
       "        0.00000000e+00, 0.00000000e+00, 0.00000000e+00, 0.00000000e+00,\n",
       "        0.00000000e+00, 0.00000000e+00, 0.00000000e+00, 0.00000000e+00,\n",
       "        0.00000000e+00, 0.00000000e+00, 0.00000000e+00, 0.00000000e+00,\n",
       "        0.00000000e+00, 0.00000000e+00, 0.00000000e+00]),\n",
       " array([5.0000000e+00, 2.4385491e-05, 2.3162740e-10, 0.0000000e+00,\n",
       "        0.0000000e+00, 0.0000000e+00, 0.0000000e+00, 0.0000000e+00,\n",
       "        0.0000000e+00, 0.0000000e+00, 0.0000000e+00, 0.0000000e+00,\n",
       "        0.0000000e+00, 0.0000000e+00, 0.0000000e+00, 0.0000000e+00,\n",
       "        0.0000000e+00, 0.0000000e+00, 0.0000000e+00, 0.0000000e+00,\n",
       "        0.0000000e+00, 0.0000000e+00, 0.0000000e+00, 0.0000000e+00,\n",
       "        0.0000000e+00, 0.0000000e+00, 0.0000000e+00, 0.0000000e+00,\n",
       "        0.0000000e+00, 0.0000000e+00, 0.0000000e+00, 0.0000000e+00,\n",
       "        0.0000000e+00, 0.0000000e+00, 0.0000000e+00, 0.0000000e+00,\n",
       "        0.0000000e+00, 0.0000000e+00, 0.0000000e+00, 0.0000000e+00,\n",
       "        0.0000000e+00, 0.0000000e+00, 0.0000000e+00, 0.0000000e+00,\n",
       "        0.0000000e+00, 0.0000000e+00, 0.0000000e+00, 0.0000000e+00,\n",
       "        0.0000000e+00, 0.0000000e+00, 0.0000000e+00]),\n",
       " 2)"
      ]
     },
     "execution_count": 23,
     "metadata": {},
     "output_type": "execute_result"
    }
   ],
   "source": [
    "gradient_pas_rebroussement2(1,2)            #point initial (1,2)"
   ]
  },
  {
   "cell_type": "code",
   "execution_count": 21,
   "metadata": {},
   "outputs": [
    {
     "data": {
      "text/plain": [
       "(array([5.8       , 1.00717795, 1.00000632, 0.        , 0.        ,\n",
       "        0.        , 0.        , 0.        , 0.        , 0.        ,\n",
       "        0.        , 0.        , 0.        , 0.        , 0.        ,\n",
       "        0.        , 0.        , 0.        , 0.        , 0.        ,\n",
       "        0.        , 0.        , 0.        , 0.        , 0.        ,\n",
       "        0.        , 0.        , 0.        , 0.        , 0.        ,\n",
       "        0.        , 0.        , 0.        , 0.        , 0.        ,\n",
       "        0.        , 0.        , 0.        , 0.        , 0.        ,\n",
       "        0.        , 0.        , 0.        , 0.        , 0.        ,\n",
       "        0.        , 0.        , 0.        , 0.        , 0.        ,\n",
       "        0.        ]),\n",
       " array([9.        , 3.01242509, 3.00002926, 0.        , 0.        ,\n",
       "        0.        , 0.        , 0.        , 0.        , 0.        ,\n",
       "        0.        , 0.        , 0.        , 0.        , 0.        ,\n",
       "        0.        , 0.        , 0.        , 0.        , 0.        ,\n",
       "        0.        , 0.        , 0.        , 0.        , 0.        ,\n",
       "        0.        , 0.        , 0.        , 0.        , 0.        ,\n",
       "        0.        , 0.        , 0.        , 0.        , 0.        ,\n",
       "        0.        , 0.        , 0.        , 0.        , 0.        ,\n",
       "        0.        , 0.        , 0.        , 0.        , 0.        ,\n",
       "        0.        , 0.        , 0.        , 0.        , 0.        ,\n",
       "        0.        ]),\n",
       " array([1.37472034e+02, 2.49616337e-01, 4.54038422e-04, 0.00000000e+00,\n",
       "        0.00000000e+00, 0.00000000e+00, 0.00000000e+00, 0.00000000e+00,\n",
       "        0.00000000e+00, 0.00000000e+00, 0.00000000e+00, 0.00000000e+00,\n",
       "        0.00000000e+00, 0.00000000e+00, 0.00000000e+00, 0.00000000e+00,\n",
       "        0.00000000e+00, 0.00000000e+00, 0.00000000e+00, 0.00000000e+00,\n",
       "        0.00000000e+00, 0.00000000e+00, 0.00000000e+00, 0.00000000e+00,\n",
       "        0.00000000e+00, 0.00000000e+00, 0.00000000e+00, 0.00000000e+00,\n",
       "        0.00000000e+00, 0.00000000e+00, 0.00000000e+00, 0.00000000e+00,\n",
       "        0.00000000e+00, 0.00000000e+00, 0.00000000e+00, 0.00000000e+00,\n",
       "        0.00000000e+00, 0.00000000e+00, 0.00000000e+00, 0.00000000e+00,\n",
       "        0.00000000e+00, 0.00000000e+00, 0.00000000e+00, 0.00000000e+00,\n",
       "        0.00000000e+00, 0.00000000e+00, 0.00000000e+00, 0.00000000e+00,\n",
       "        0.00000000e+00, 0.00000000e+00, 0.00000000e+00]),\n",
       " array([5.25600000e+02, 1.74302322e-03, 5.96037627e-09, 0.00000000e+00,\n",
       "        0.00000000e+00, 0.00000000e+00, 0.00000000e+00, 0.00000000e+00,\n",
       "        0.00000000e+00, 0.00000000e+00, 0.00000000e+00, 0.00000000e+00,\n",
       "        0.00000000e+00, 0.00000000e+00, 0.00000000e+00, 0.00000000e+00,\n",
       "        0.00000000e+00, 0.00000000e+00, 0.00000000e+00, 0.00000000e+00,\n",
       "        0.00000000e+00, 0.00000000e+00, 0.00000000e+00, 0.00000000e+00,\n",
       "        0.00000000e+00, 0.00000000e+00, 0.00000000e+00, 0.00000000e+00,\n",
       "        0.00000000e+00, 0.00000000e+00, 0.00000000e+00, 0.00000000e+00,\n",
       "        0.00000000e+00, 0.00000000e+00, 0.00000000e+00, 0.00000000e+00,\n",
       "        0.00000000e+00, 0.00000000e+00, 0.00000000e+00, 0.00000000e+00,\n",
       "        0.00000000e+00, 0.00000000e+00, 0.00000000e+00, 0.00000000e+00,\n",
       "        0.00000000e+00, 0.00000000e+00, 0.00000000e+00, 0.00000000e+00,\n",
       "        0.00000000e+00, 0.00000000e+00, 0.00000000e+00]),\n",
       " 2)"
      ]
     },
     "execution_count": 21,
     "metadata": {},
     "output_type": "execute_result"
    }
   ],
   "source": [
    "gradient_pas_rebroussement2(5.8,9)         #point initial (5.8,9)"
   ]
  },
  {
   "cell_type": "code",
   "execution_count": 22,
   "metadata": {},
   "outputs": [
    {
     "data": {
      "text/plain": [
       "(array([1000.        ,    2.81583907,    1.00330711,    1.00000605,\n",
       "           0.        ,    0.        ,    0.        ,    0.        ,\n",
       "           0.        ,    0.        ,    0.        ,    0.        ,\n",
       "           0.        ,    0.        ,    0.        ,    0.        ,\n",
       "           0.        ,    0.        ,    0.        ,    0.        ,\n",
       "           0.        ,    0.        ,    0.        ,    0.        ,\n",
       "           0.        ,    0.        ,    0.        ,    0.        ,\n",
       "           0.        ,    0.        ,    0.        ,    0.        ,\n",
       "           0.        ,    0.        ,    0.        ,    0.        ,\n",
       "           0.        ,    0.        ,    0.        ,    0.        ,\n",
       "           0.        ,    0.        ,    0.        ,    0.        ,\n",
       "           0.        ,    0.        ,    0.        ,    0.        ,\n",
       "           0.        ,    0.        ,    0.        ]),\n",
       " array([1000.        ,    4.80709384,    3.00326887,    3.00000588,\n",
       "           0.        ,    0.        ,    0.        ,    0.        ,\n",
       "           0.        ,    0.        ,    0.        ,    0.        ,\n",
       "           0.        ,    0.        ,    0.        ,    0.        ,\n",
       "           0.        ,    0.        ,    0.        ,    0.        ,\n",
       "           0.        ,    0.        ,    0.        ,    0.        ,\n",
       "           0.        ,    0.        ,    0.        ,    0.        ,\n",
       "           0.        ,    0.        ,    0.        ,    0.        ,\n",
       "           0.        ,    0.        ,    0.        ,    0.        ,\n",
       "           0.        ,    0.        ,    0.        ,    0.        ,\n",
       "           0.        ,    0.        ,    0.        ,    0.        ,\n",
       "           0.        ,    0.        ,    0.        ,    0.        ,\n",
       "           0.        ,    0.        ,    0.        ]),\n",
       " array([2.54049326e+04, 4.61124094e+01, 8.36984941e-02, 1.51921008e-04,\n",
       "        0.00000000e+00, 0.00000000e+00, 0.00000000e+00, 0.00000000e+00,\n",
       "        0.00000000e+00, 0.00000000e+00, 0.00000000e+00, 0.00000000e+00,\n",
       "        0.00000000e+00, 0.00000000e+00, 0.00000000e+00, 0.00000000e+00,\n",
       "        0.00000000e+00, 0.00000000e+00, 0.00000000e+00, 0.00000000e+00,\n",
       "        0.00000000e+00, 0.00000000e+00, 0.00000000e+00, 0.00000000e+00,\n",
       "        0.00000000e+00, 0.00000000e+00, 0.00000000e+00, 0.00000000e+00,\n",
       "        0.00000000e+00, 0.00000000e+00, 0.00000000e+00, 0.00000000e+00,\n",
       "        0.00000000e+00, 0.00000000e+00, 0.00000000e+00, 0.00000000e+00,\n",
       "        0.00000000e+00, 0.00000000e+00, 0.00000000e+00, 0.00000000e+00,\n",
       "        0.00000000e+00, 0.00000000e+00, 0.00000000e+00, 0.00000000e+00,\n",
       "        0.00000000e+00, 0.00000000e+00, 0.00000000e+00, 0.00000000e+00,\n",
       "        0.00000000e+00, 0.00000000e+00, 0.00000000e+00]),\n",
       " array([1.79280740e+07, 5.90654311e+01, 1.94596148e-04, 6.41123337e-10,\n",
       "        0.00000000e+00, 0.00000000e+00, 0.00000000e+00, 0.00000000e+00,\n",
       "        0.00000000e+00, 0.00000000e+00, 0.00000000e+00, 0.00000000e+00,\n",
       "        0.00000000e+00, 0.00000000e+00, 0.00000000e+00, 0.00000000e+00,\n",
       "        0.00000000e+00, 0.00000000e+00, 0.00000000e+00, 0.00000000e+00,\n",
       "        0.00000000e+00, 0.00000000e+00, 0.00000000e+00, 0.00000000e+00,\n",
       "        0.00000000e+00, 0.00000000e+00, 0.00000000e+00, 0.00000000e+00,\n",
       "        0.00000000e+00, 0.00000000e+00, 0.00000000e+00, 0.00000000e+00,\n",
       "        0.00000000e+00, 0.00000000e+00, 0.00000000e+00, 0.00000000e+00,\n",
       "        0.00000000e+00, 0.00000000e+00, 0.00000000e+00, 0.00000000e+00,\n",
       "        0.00000000e+00, 0.00000000e+00, 0.00000000e+00, 0.00000000e+00,\n",
       "        0.00000000e+00, 0.00000000e+00, 0.00000000e+00, 0.00000000e+00,\n",
       "        0.00000000e+00, 0.00000000e+00, 0.00000000e+00]),\n",
       " 3)"
      ]
     },
     "execution_count": 22,
     "metadata": {},
     "output_type": "execute_result"
    }
   ],
   "source": [
    "gradient_pas_rebroussement2(1000,1000)            #point initial(1000,1000)"
   ]
  },
  {
   "cell_type": "markdown",
   "metadata": {},
   "source": [
    "### Quelle que soit la façon dont vous modifiez le point initial, il finira par converger vers le point (1,3) , indiquant qu’il s’agit du minimum global.\n",
    "### Le choix du point initial affecte le nombre d’étapes de convergence, et plus on s’éloigne du point (1,3) , plus le nombre d’étapes de convergence est élevé, mais cet effet est relativement faible comparé avec le changement de ($\\alpha$ , $\\beta$)."
   ]
  }
 ],
 "metadata": {
  "kernelspec": {
   "display_name": "Python 3",
   "language": "python",
   "name": "python3"
  },
  "language_info": {
   "codemirror_mode": {
    "name": "ipython",
    "version": 3
   },
   "file_extension": ".py",
   "mimetype": "text/x-python",
   "name": "python",
   "nbconvert_exporter": "python",
   "pygments_lexer": "ipython3",
   "version": "3.8.3"
  }
 },
 "nbformat": 4,
 "nbformat_minor": 2
}
